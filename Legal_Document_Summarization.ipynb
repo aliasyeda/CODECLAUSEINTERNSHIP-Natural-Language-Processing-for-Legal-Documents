{
 "cells": [
  {
   "cell_type": "code",
   "execution_count": 1,
   "id": "2225b003-d599-4dda-a74c-ec75373c4dc0",
   "metadata": {},
   "outputs": [],
   "source": [
    "import os\n",
    "import warnings\n",
    "os.environ['TF_CPP_MIN_LOG_LEVEL'] = '3'  # Suppress TensorFlow warnings\n",
    "warnings.filterwarnings('ignore')         # Hide all other warnings\n",
    "\n"
   ]
  },
  {
   "cell_type": "code",
   "execution_count": 2,
   "id": "2f52c1a4-770c-4909-b6cb-fcea0e732441",
   "metadata": {},
   "outputs": [
    {
     "data": {
      "text/html": [
       "<style>.output_stderr {display: none;}</style>"
      ],
      "text/plain": [
       "<IPython.core.display.HTML object>"
      ]
     },
     "metadata": {},
     "output_type": "display_data"
    }
   ],
   "source": [
    "from IPython.display import display, HTML\n",
    "display(HTML(\"<style>.output_stderr {display: none;}</style>\"))\n"
   ]
  },
  {
   "cell_type": "code",
   "execution_count": 3,
   "id": "6ae322b3-591c-4a64-aea7-1883ba7ef74e",
   "metadata": {},
   "outputs": [
    {
     "name": "stdout",
     "output_type": "stream",
     "text": [
      "Defaulting to user installation because normal site-packages is not writeable\n",
      "Requirement already satisfied: spacy in c:\\users\\syeds\\appdata\\roaming\\python\\python312\\site-packages (3.8.7)\n",
      "Requirement already satisfied: nltk in c:\\anaconda\\lib\\site-packages (3.8.1)\n",
      "Requirement already satisfied: transformers in c:\\users\\syeds\\appdata\\roaming\\python\\python312\\site-packages (4.53.1)\n",
      "Requirement already satisfied: spacy-legacy<3.1.0,>=3.0.11 in c:\\users\\syeds\\appdata\\roaming\\python\\python312\\site-packages (from spacy) (3.0.12)\n",
      "Requirement already satisfied: spacy-loggers<2.0.0,>=1.0.0 in c:\\users\\syeds\\appdata\\roaming\\python\\python312\\site-packages (from spacy) (1.0.5)\n",
      "Requirement already satisfied: murmurhash<1.1.0,>=0.28.0 in c:\\users\\syeds\\appdata\\roaming\\python\\python312\\site-packages (from spacy) (1.0.13)\n",
      "Requirement already satisfied: cymem<2.1.0,>=2.0.2 in c:\\users\\syeds\\appdata\\roaming\\python\\python312\\site-packages (from spacy) (2.0.11)\n",
      "Requirement already satisfied: preshed<3.1.0,>=3.0.2 in c:\\users\\syeds\\appdata\\roaming\\python\\python312\\site-packages (from spacy) (3.0.10)\n",
      "Requirement already satisfied: thinc<8.4.0,>=8.3.4 in c:\\users\\syeds\\appdata\\roaming\\python\\python312\\site-packages (from spacy) (8.3.6)\n",
      "Requirement already satisfied: wasabi<1.2.0,>=0.9.1 in c:\\users\\syeds\\appdata\\roaming\\python\\python312\\site-packages (from spacy) (1.1.3)\n",
      "Requirement already satisfied: srsly<3.0.0,>=2.4.3 in c:\\users\\syeds\\appdata\\roaming\\python\\python312\\site-packages (from spacy) (2.5.1)\n",
      "Requirement already satisfied: catalogue<2.1.0,>=2.0.6 in c:\\users\\syeds\\appdata\\roaming\\python\\python312\\site-packages (from spacy) (2.0.10)\n",
      "Requirement already satisfied: weasel<0.5.0,>=0.1.0 in c:\\users\\syeds\\appdata\\roaming\\python\\python312\\site-packages (from spacy) (0.4.1)\n",
      "Requirement already satisfied: typer<1.0.0,>=0.3.0 in c:\\users\\syeds\\appdata\\roaming\\python\\python312\\site-packages (from spacy) (0.16.0)\n",
      "Requirement already satisfied: tqdm<5.0.0,>=4.38.0 in c:\\anaconda\\lib\\site-packages (from spacy) (4.66.4)\n",
      "Requirement already satisfied: numpy>=1.19.0 in c:\\anaconda\\lib\\site-packages (from spacy) (1.26.4)\n",
      "Requirement already satisfied: requests<3.0.0,>=2.13.0 in c:\\anaconda\\lib\\site-packages (from spacy) (2.32.2)\n",
      "Requirement already satisfied: pydantic!=1.8,!=1.8.1,<3.0.0,>=1.7.4 in c:\\users\\syeds\\appdata\\roaming\\python\\python312\\site-packages (from spacy) (2.11.7)\n",
      "Requirement already satisfied: jinja2 in c:\\anaconda\\lib\\site-packages (from spacy) (3.1.4)\n",
      "Requirement already satisfied: setuptools in c:\\anaconda\\lib\\site-packages (from spacy) (69.5.1)\n",
      "Requirement already satisfied: packaging>=20.0 in c:\\anaconda\\lib\\site-packages (from spacy) (23.2)\n",
      "Requirement already satisfied: langcodes<4.0.0,>=3.2.0 in c:\\users\\syeds\\appdata\\roaming\\python\\python312\\site-packages (from spacy) (3.5.0)\n",
      "Requirement already satisfied: click in c:\\anaconda\\lib\\site-packages (from nltk) (8.1.7)\n",
      "Requirement already satisfied: joblib in c:\\anaconda\\lib\\site-packages (from nltk) (1.4.2)\n",
      "Requirement already satisfied: regex>=2021.8.3 in c:\\anaconda\\lib\\site-packages (from nltk) (2023.10.3)\n",
      "Requirement already satisfied: filelock in c:\\anaconda\\lib\\site-packages (from transformers) (3.13.1)\n",
      "Requirement already satisfied: huggingface-hub<1.0,>=0.30.0 in c:\\users\\syeds\\appdata\\roaming\\python\\python312\\site-packages (from transformers) (0.33.2)\n",
      "Requirement already satisfied: pyyaml>=5.1 in c:\\anaconda\\lib\\site-packages (from transformers) (6.0.1)\n",
      "Requirement already satisfied: tokenizers<0.22,>=0.21 in c:\\users\\syeds\\appdata\\roaming\\python\\python312\\site-packages (from transformers) (0.21.2)\n",
      "Requirement already satisfied: safetensors>=0.4.3 in c:\\users\\syeds\\appdata\\roaming\\python\\python312\\site-packages (from transformers) (0.5.3)\n",
      "Requirement already satisfied: fsspec>=2023.5.0 in c:\\anaconda\\lib\\site-packages (from huggingface-hub<1.0,>=0.30.0->transformers) (2024.3.1)\n",
      "Requirement already satisfied: typing-extensions>=3.7.4.3 in c:\\users\\syeds\\appdata\\roaming\\python\\python312\\site-packages (from huggingface-hub<1.0,>=0.30.0->transformers) (4.14.1)\n",
      "Requirement already satisfied: language-data>=1.2 in c:\\users\\syeds\\appdata\\roaming\\python\\python312\\site-packages (from langcodes<4.0.0,>=3.2.0->spacy) (1.3.0)\n",
      "Requirement already satisfied: annotated-types>=0.6.0 in c:\\anaconda\\lib\\site-packages (from pydantic!=1.8,!=1.8.1,<3.0.0,>=1.7.4->spacy) (0.6.0)\n",
      "Requirement already satisfied: pydantic-core==2.33.2 in c:\\users\\syeds\\appdata\\roaming\\python\\python312\\site-packages (from pydantic!=1.8,!=1.8.1,<3.0.0,>=1.7.4->spacy) (2.33.2)\n",
      "Requirement already satisfied: typing-inspection>=0.4.0 in c:\\users\\syeds\\appdata\\roaming\\python\\python312\\site-packages (from pydantic!=1.8,!=1.8.1,<3.0.0,>=1.7.4->spacy) (0.4.1)\n",
      "Requirement already satisfied: charset-normalizer<4,>=2 in c:\\anaconda\\lib\\site-packages (from requests<3.0.0,>=2.13.0->spacy) (2.0.4)\n",
      "Requirement already satisfied: idna<4,>=2.5 in c:\\anaconda\\lib\\site-packages (from requests<3.0.0,>=2.13.0->spacy) (3.7)\n",
      "Requirement already satisfied: urllib3<3,>=1.21.1 in c:\\anaconda\\lib\\site-packages (from requests<3.0.0,>=2.13.0->spacy) (2.2.2)\n",
      "Requirement already satisfied: certifi>=2017.4.17 in c:\\anaconda\\lib\\site-packages (from requests<3.0.0,>=2.13.0->spacy) (2024.6.2)\n",
      "Requirement already satisfied: blis<1.4.0,>=1.3.0 in c:\\users\\syeds\\appdata\\roaming\\python\\python312\\site-packages (from thinc<8.4.0,>=8.3.4->spacy) (1.3.0)\n",
      "Requirement already satisfied: confection<1.0.0,>=0.0.1 in c:\\users\\syeds\\appdata\\roaming\\python\\python312\\site-packages (from thinc<8.4.0,>=8.3.4->spacy) (0.1.5)\n",
      "Collecting numpy>=1.19.0 (from spacy)\n",
      "  Downloading numpy-2.3.1-cp312-cp312-win_amd64.whl.metadata (60 kB)\n",
      "     ---------------------------------------- 0.0/60.9 kB ? eta -:--:--\n",
      "     ------------ ------------------------- 20.5/60.9 kB 682.7 kB/s eta 0:00:01\n",
      "     ------------------- ------------------ 30.7/60.9 kB 435.7 kB/s eta 0:00:01\n",
      "     ------------------------------- ------ 51.2/60.9 kB 525.1 kB/s eta 0:00:01\n",
      "     -------------------------------------- 60.9/60.9 kB 361.7 kB/s eta 0:00:00\n",
      "Requirement already satisfied: colorama in c:\\anaconda\\lib\\site-packages (from tqdm<5.0.0,>=4.38.0->spacy) (0.4.6)\n",
      "Requirement already satisfied: shellingham>=1.3.0 in c:\\users\\syeds\\appdata\\roaming\\python\\python312\\site-packages (from typer<1.0.0,>=0.3.0->spacy) (1.5.4)\n",
      "Requirement already satisfied: rich>=10.11.0 in c:\\anaconda\\lib\\site-packages (from typer<1.0.0,>=0.3.0->spacy) (13.3.5)\n",
      "Requirement already satisfied: cloudpathlib<1.0.0,>=0.7.0 in c:\\users\\syeds\\appdata\\roaming\\python\\python312\\site-packages (from weasel<0.5.0,>=0.1.0->spacy) (0.21.1)\n",
      "Requirement already satisfied: smart-open<8.0.0,>=5.2.1 in c:\\anaconda\\lib\\site-packages (from weasel<0.5.0,>=0.1.0->spacy) (5.2.1)\n",
      "Requirement already satisfied: MarkupSafe>=2.0 in c:\\anaconda\\lib\\site-packages (from jinja2->spacy) (2.1.3)\n",
      "Requirement already satisfied: marisa-trie>=1.1.0 in c:\\users\\syeds\\appdata\\roaming\\python\\python312\\site-packages (from language-data>=1.2->langcodes<4.0.0,>=3.2.0->spacy) (1.2.1)\n",
      "Requirement already satisfied: markdown-it-py<3.0.0,>=2.2.0 in c:\\anaconda\\lib\\site-packages (from rich>=10.11.0->typer<1.0.0,>=0.3.0->spacy) (2.2.0)\n",
      "Requirement already satisfied: pygments<3.0.0,>=2.13.0 in c:\\anaconda\\lib\\site-packages (from rich>=10.11.0->typer<1.0.0,>=0.3.0->spacy) (2.15.1)\n",
      "Requirement already satisfied: mdurl~=0.1 in c:\\anaconda\\lib\\site-packages (from markdown-it-py<3.0.0,>=2.2.0->rich>=10.11.0->typer<1.0.0,>=0.3.0->spacy) (0.1.0)\n",
      "Downloading numpy-2.3.1-cp312-cp312-win_amd64.whl (12.7 MB)\n",
      "   ---------------------------------------- 0.0/12.7 MB ? eta -:--:--\n",
      "   ---------------------------------------- 0.1/12.7 MB 1.6 MB/s eta 0:00:08\n",
      "   ---------------------------------------- 0.1/12.7 MB 1.6 MB/s eta 0:00:08\n",
      "   ---------------------------------------- 0.1/12.7 MB 819.2 kB/s eta 0:00:16\n",
      "    --------------------------------------- 0.2/12.7 MB 1.3 MB/s eta 0:00:10\n",
      "   -- ------------------------------------- 0.7/12.7 MB 2.9 MB/s eta 0:00:05\n",
      "   -- ------------------------------------- 0.9/12.7 MB 3.4 MB/s eta 0:00:04\n",
      "   --- ------------------------------------ 1.1/12.7 MB 3.4 MB/s eta 0:00:04\n",
      "   --- ------------------------------------ 1.2/12.7 MB 3.4 MB/s eta 0:00:04\n",
      "   --- ------------------------------------ 1.2/12.7 MB 3.0 MB/s eta 0:00:04\n",
      "   --- ------------------------------------ 1.3/12.7 MB 2.8 MB/s eta 0:00:05\n",
      "   --- ------------------------------------ 1.3/12.7 MB 2.6 MB/s eta 0:00:05\n",
      "   ---- ----------------------------------- 1.3/12.7 MB 2.4 MB/s eta 0:00:05\n",
      "   ---- ----------------------------------- 1.3/12.7 MB 2.2 MB/s eta 0:00:06\n",
      "   ---- ----------------------------------- 1.4/12.7 MB 2.1 MB/s eta 0:00:06\n",
      "   ---- ----------------------------------- 1.4/12.7 MB 2.0 MB/s eta 0:00:06\n",
      "   ---- ----------------------------------- 1.4/12.7 MB 1.9 MB/s eta 0:00:06\n",
      "   ---- ----------------------------------- 1.5/12.7 MB 1.9 MB/s eta 0:00:07\n",
      "   ---- ----------------------------------- 1.5/12.7 MB 1.8 MB/s eta 0:00:07\n",
      "   ---- ----------------------------------- 1.5/12.7 MB 1.8 MB/s eta 0:00:07\n",
      "   ---- ----------------------------------- 1.6/12.7 MB 1.7 MB/s eta 0:00:07\n",
      "   ---- ----------------------------------- 1.6/12.7 MB 1.7 MB/s eta 0:00:07\n",
      "   ----- ---------------------------------- 1.6/12.7 MB 1.6 MB/s eta 0:00:07\n",
      "   ----- ---------------------------------- 1.6/12.7 MB 1.6 MB/s eta 0:00:08\n",
      "   ----- ---------------------------------- 1.7/12.7 MB 1.5 MB/s eta 0:00:08\n",
      "   ----- ---------------------------------- 1.8/12.7 MB 1.5 MB/s eta 0:00:08\n",
      "   ----- ---------------------------------- 1.8/12.7 MB 1.5 MB/s eta 0:00:08\n",
      "   ----- ---------------------------------- 1.8/12.7 MB 1.5 MB/s eta 0:00:08\n",
      "   ----- ---------------------------------- 1.9/12.7 MB 1.5 MB/s eta 0:00:08\n",
      "   ------ --------------------------------- 1.9/12.7 MB 1.4 MB/s eta 0:00:08\n",
      "   ------ --------------------------------- 2.0/12.7 MB 1.4 MB/s eta 0:00:08\n",
      "   ------ --------------------------------- 2.1/12.7 MB 1.4 MB/s eta 0:00:08\n",
      "   ------ --------------------------------- 2.2/12.7 MB 1.5 MB/s eta 0:00:08\n",
      "   ------ --------------------------------- 2.2/12.7 MB 1.5 MB/s eta 0:00:08\n",
      "   ------- -------------------------------- 2.3/12.7 MB 1.4 MB/s eta 0:00:08\n",
      "   ------- -------------------------------- 2.3/12.7 MB 1.4 MB/s eta 0:00:08\n",
      "   ------- -------------------------------- 2.4/12.7 MB 1.4 MB/s eta 0:00:08\n",
      "   ------- -------------------------------- 2.4/12.7 MB 1.4 MB/s eta 0:00:08\n",
      "   -------- ------------------------------- 2.6/12.7 MB 1.4 MB/s eta 0:00:08\n",
      "   -------- ------------------------------- 2.7/12.7 MB 1.5 MB/s eta 0:00:07\n",
      "   -------- ------------------------------- 2.8/12.7 MB 1.5 MB/s eta 0:00:07\n",
      "   --------- ------------------------------ 2.9/12.7 MB 1.5 MB/s eta 0:00:07\n",
      "   --------- ------------------------------ 3.0/12.7 MB 1.5 MB/s eta 0:00:07\n",
      "   --------- ------------------------------ 3.1/12.7 MB 1.5 MB/s eta 0:00:07\n",
      "   ---------- ----------------------------- 3.2/12.7 MB 1.6 MB/s eta 0:00:07\n",
      "   ---------- ----------------------------- 3.3/12.7 MB 1.6 MB/s eta 0:00:06\n",
      "   ---------- ----------------------------- 3.4/12.7 MB 1.6 MB/s eta 0:00:06\n",
      "   ---------- ----------------------------- 3.5/12.7 MB 1.6 MB/s eta 0:00:06\n",
      "   ----------- ---------------------------- 3.6/12.7 MB 1.6 MB/s eta 0:00:06\n",
      "   ----------- ---------------------------- 3.6/12.7 MB 1.6 MB/s eta 0:00:06\n",
      "   ----------- ---------------------------- 3.7/12.7 MB 1.6 MB/s eta 0:00:06\n",
      "   ----------- ---------------------------- 3.8/12.7 MB 1.6 MB/s eta 0:00:06\n",
      "   ------------ --------------------------- 3.8/12.7 MB 1.6 MB/s eta 0:00:06\n",
      "   ------------ --------------------------- 3.9/12.7 MB 1.6 MB/s eta 0:00:06\n",
      "   ------------ --------------------------- 4.0/12.7 MB 1.5 MB/s eta 0:00:06\n",
      "   ------------ --------------------------- 4.0/12.7 MB 1.6 MB/s eta 0:00:06\n",
      "   ------------ --------------------------- 4.1/12.7 MB 1.6 MB/s eta 0:00:06\n",
      "   ------------- -------------------------- 4.2/12.7 MB 1.6 MB/s eta 0:00:06\n",
      "   ------------- -------------------------- 4.3/12.7 MB 1.6 MB/s eta 0:00:06\n",
      "   ------------- -------------------------- 4.3/12.7 MB 1.6 MB/s eta 0:00:06\n",
      "   ------------- -------------------------- 4.4/12.7 MB 1.5 MB/s eta 0:00:06\n",
      "   -------------- ------------------------- 4.5/12.7 MB 1.6 MB/s eta 0:00:06\n",
      "   -------------- ------------------------- 4.6/12.7 MB 1.6 MB/s eta 0:00:06\n",
      "   -------------- ------------------------- 4.6/12.7 MB 1.6 MB/s eta 0:00:06\n",
      "   --------------- ------------------------ 4.8/12.7 MB 1.6 MB/s eta 0:00:06\n",
      "   --------------- ------------------------ 4.9/12.7 MB 1.6 MB/s eta 0:00:05\n",
      "   --------------- ------------------------ 5.0/12.7 MB 1.6 MB/s eta 0:00:05\n",
      "   --------------- ------------------------ 5.1/12.7 MB 1.6 MB/s eta 0:00:05\n",
      "   ---------------- ----------------------- 5.2/12.7 MB 1.6 MB/s eta 0:00:05\n",
      "   ---------------- ----------------------- 5.2/12.7 MB 1.6 MB/s eta 0:00:05\n",
      "   ---------------- ----------------------- 5.3/12.7 MB 1.6 MB/s eta 0:00:05\n",
      "   ---------------- ----------------------- 5.3/12.7 MB 1.6 MB/s eta 0:00:05\n",
      "   ---------------- ----------------------- 5.4/12.7 MB 1.6 MB/s eta 0:00:05\n",
      "   ----------------- ---------------------- 5.5/12.7 MB 1.6 MB/s eta 0:00:05\n",
      "   ----------------- ---------------------- 5.6/12.7 MB 1.6 MB/s eta 0:00:05\n",
      "   ----------------- ---------------------- 5.7/12.7 MB 1.6 MB/s eta 0:00:05\n",
      "   ------------------ --------------------- 5.8/12.7 MB 1.6 MB/s eta 0:00:05\n",
      "   ------------------ --------------------- 5.8/12.7 MB 1.6 MB/s eta 0:00:05\n",
      "   ------------------ --------------------- 5.9/12.7 MB 1.6 MB/s eta 0:00:05\n",
      "   ------------------ --------------------- 6.0/12.7 MB 1.6 MB/s eta 0:00:05\n",
      "   ------------------- -------------------- 6.1/12.7 MB 1.6 MB/s eta 0:00:05\n",
      "   ------------------- -------------------- 6.2/12.7 MB 1.6 MB/s eta 0:00:05\n",
      "   ------------------- -------------------- 6.3/12.7 MB 1.6 MB/s eta 0:00:04\n",
      "   -------------------- ------------------- 6.5/12.7 MB 1.7 MB/s eta 0:00:04\n",
      "   --------------------- ------------------ 6.7/12.7 MB 1.7 MB/s eta 0:00:04\n",
      "   --------------------- ------------------ 6.9/12.7 MB 1.7 MB/s eta 0:00:04\n",
      "   --------------------- ------------------ 7.0/12.7 MB 1.7 MB/s eta 0:00:04\n",
      "   ---------------------- ----------------- 7.2/12.7 MB 1.7 MB/s eta 0:00:04\n",
      "   ---------------------- ----------------- 7.3/12.7 MB 1.8 MB/s eta 0:00:04\n",
      "   ----------------------- ---------------- 7.5/12.7 MB 1.8 MB/s eta 0:00:03\n",
      "   ------------------------ --------------- 7.7/12.7 MB 1.8 MB/s eta 0:00:03\n",
      "   ------------------------ --------------- 7.8/12.7 MB 1.8 MB/s eta 0:00:03\n",
      "   ------------------------ --------------- 7.9/12.7 MB 1.8 MB/s eta 0:00:03\n",
      "   ------------------------- -------------- 8.1/12.7 MB 1.8 MB/s eta 0:00:03\n",
      "   ------------------------- -------------- 8.1/12.7 MB 1.8 MB/s eta 0:00:03\n",
      "   ------------------------- -------------- 8.2/12.7 MB 1.8 MB/s eta 0:00:03\n",
      "   -------------------------- ------------- 8.3/12.7 MB 1.8 MB/s eta 0:00:03\n",
      "   -------------------------- ------------- 8.4/12.7 MB 1.8 MB/s eta 0:00:03\n",
      "   -------------------------- ------------- 8.5/12.7 MB 1.8 MB/s eta 0:00:03\n",
      "   --------------------------- ------------ 8.6/12.7 MB 1.8 MB/s eta 0:00:03\n",
      "   --------------------------- ------------ 8.8/12.7 MB 1.9 MB/s eta 0:00:03\n",
      "   ---------------------------- ----------- 9.0/12.7 MB 1.9 MB/s eta 0:00:02\n",
      "   ---------------------------- ----------- 9.2/12.7 MB 1.9 MB/s eta 0:00:02\n",
      "   ----------------------------- ---------- 9.3/12.7 MB 1.9 MB/s eta 0:00:02\n",
      "   ----------------------------- ---------- 9.4/12.7 MB 1.9 MB/s eta 0:00:02\n",
      "   ------------------------------ --------- 9.7/12.7 MB 2.0 MB/s eta 0:00:02\n",
      "   ------------------------------- -------- 10.0/12.7 MB 2.0 MB/s eta 0:00:02\n",
      "   ------------------------------- -------- 10.1/12.7 MB 2.0 MB/s eta 0:00:02\n",
      "   -------------------------------- ------- 10.3/12.7 MB 2.0 MB/s eta 0:00:02\n",
      "   -------------------------------- ------- 10.5/12.7 MB 2.1 MB/s eta 0:00:02\n",
      "   --------------------------------- ------ 10.7/12.7 MB 2.1 MB/s eta 0:00:01\n",
      "   ---------------------------------- ----- 10.9/12.7 MB 2.0 MB/s eta 0:00:01\n",
      "   ---------------------------------- ----- 11.1/12.7 MB 2.0 MB/s eta 0:00:01\n",
      "   ----------------------------------- ---- 11.3/12.7 MB 2.0 MB/s eta 0:00:01\n",
      "   ----------------------------------- ---- 11.4/12.7 MB 2.0 MB/s eta 0:00:01\n",
      "   ------------------------------------ --- 11.5/12.7 MB 2.1 MB/s eta 0:00:01\n",
      "   ------------------------------------ --- 11.6/12.7 MB 2.1 MB/s eta 0:00:01\n",
      "   ------------------------------------ --- 11.7/12.7 MB 2.2 MB/s eta 0:00:01\n",
      "   ------------------------------------ --- 11.7/12.7 MB 2.2 MB/s eta 0:00:01\n",
      "   ------------------------------------ --- 11.8/12.7 MB 2.2 MB/s eta 0:00:01\n",
      "   ------------------------------------- -- 11.8/12.7 MB 2.2 MB/s eta 0:00:01\n",
      "   ------------------------------------- -- 11.9/12.7 MB 2.2 MB/s eta 0:00:01\n",
      "   ------------------------------------- -- 11.9/12.7 MB 2.2 MB/s eta 0:00:01\n",
      "   ------------------------------------- -- 11.9/12.7 MB 2.2 MB/s eta 0:00:01\n",
      "   ------------------------------------- -- 11.9/12.7 MB 2.2 MB/s eta 0:00:01\n",
      "   ------------------------------------- -- 12.0/12.7 MB 2.2 MB/s eta 0:00:01\n",
      "   ------------------------------------- -- 12.0/12.7 MB 2.2 MB/s eta 0:00:01\n",
      "   ------------------------------------- -- 12.1/12.7 MB 2.2 MB/s eta 0:00:01\n",
      "   -------------------------------------- - 12.2/12.7 MB 2.2 MB/s eta 0:00:01\n",
      "   -------------------------------------- - 12.2/12.7 MB 2.2 MB/s eta 0:00:01\n",
      "   -------------------------------------- - 12.3/12.7 MB 2.2 MB/s eta 0:00:01\n",
      "   ---------------------------------------  12.5/12.7 MB 2.2 MB/s eta 0:00:01\n",
      "   ---------------------------------------  12.6/12.7 MB 2.3 MB/s eta 0:00:01\n",
      "   ---------------------------------------  12.7/12.7 MB 2.3 MB/s eta 0:00:01\n",
      "   ---------------------------------------- 12.7/12.7 MB 2.3 MB/s eta 0:00:00\n",
      "Installing collected packages: numpy\n",
      "Successfully installed numpy-2.3.1\n",
      "Note: you may need to restart the kernel to use updated packages.\n"
     ]
    },
    {
     "name": "stderr",
     "output_type": "stream",
     "text": [
      "  WARNING: The scripts f2py.exe and numpy-config.exe are installed in 'C:\\Users\\syeds\\AppData\\Roaming\\Python\\Python312\\Scripts' which is not on PATH.\n",
      "  Consider adding this directory to PATH or, if you prefer to suppress this warning, use --no-warn-script-location.\n",
      "ERROR: pip's dependency resolver does not currently take into account all the packages that are installed. This behaviour is the source of the following dependency conflicts.\n",
      "mediapipe 0.10.21 requires numpy<2, but you have numpy 2.3.1 which is incompatible.\n",
      "contourpy 1.2.0 requires numpy<2.0,>=1.20, but you have numpy 2.3.1 which is incompatible.\n",
      "numba 0.59.1 requires numpy<1.27,>=1.22, but you have numpy 2.3.1 which is incompatible.\n",
      "pywavelets 1.5.0 requires numpy<2.0,>=1.22.4, but you have numpy 2.3.1 which is incompatible.\n",
      "scipy 1.13.1 requires numpy<2.3,>=1.22.4, but you have numpy 2.3.1 which is incompatible.\n",
      "streamlit 1.32.0 requires numpy<2,>=1.19.3, but you have numpy 2.3.1 which is incompatible.\n"
     ]
    }
   ],
   "source": [
    "%pip install spacy nltk transformers\n"
   ]
  },
  {
   "cell_type": "code",
   "execution_count": 4,
   "id": "cf103c87-b320-4dd9-8964-15f6b4932e23",
   "metadata": {},
   "outputs": [
    {
     "name": "stdout",
     "output_type": "stream",
     "text": [
      "Defaulting to user installation because normal site-packages is not writeable\n",
      "Collecting numpy==1.26.4\n",
      "  Downloading numpy-1.26.4-cp312-cp312-win_amd64.whl.metadata (61 kB)\n",
      "     ---------------------------------------- 0.0/61.0 kB ? eta -:--:--\n",
      "     ------ --------------------------------- 10.2/61.0 kB ? eta -:--:--\n",
      "     ------------ ------------------------- 20.5/61.0 kB 217.9 kB/s eta 0:00:01\n",
      "     ------------------- ------------------ 30.7/61.0 kB 187.9 kB/s eta 0:00:01\n",
      "     ------------------------- ------------ 41.0/61.0 kB 219.4 kB/s eta 0:00:01\n",
      "     ------------------------------- ------ 51.2/61.0 kB 219.0 kB/s eta 0:00:01\n",
      "     -------------------------------------- 61.0/61.0 kB 217.1 kB/s eta 0:00:00\n",
      "Downloading numpy-1.26.4-cp312-cp312-win_amd64.whl (15.5 MB)\n",
      "   ---------------------------------------- 0.0/15.5 MB ? eta -:--:--\n",
      "   ---------------------------------------- 0.0/15.5 MB ? eta -:--:--\n",
      "   ---------------------------------------- 0.1/15.5 MB 1.3 MB/s eta 0:00:12\n",
      "    --------------------------------------- 0.2/15.5 MB 2.0 MB/s eta 0:00:08\n",
      "   - -------------------------------------- 0.5/15.5 MB 3.2 MB/s eta 0:00:05\n",
      "   - -------------------------------------- 0.7/15.5 MB 3.5 MB/s eta 0:00:05\n",
      "   -- ------------------------------------- 1.0/15.5 MB 4.4 MB/s eta 0:00:04\n",
      "   --- ------------------------------------ 1.2/15.5 MB 4.4 MB/s eta 0:00:04\n",
      "   --- ------------------------------------ 1.4/15.5 MB 4.3 MB/s eta 0:00:04\n",
      "   ---- ----------------------------------- 1.6/15.5 MB 4.2 MB/s eta 0:00:04\n",
      "   ---- ----------------------------------- 1.7/15.5 MB 4.1 MB/s eta 0:00:04\n",
      "   ---- ----------------------------------- 1.8/15.5 MB 3.8 MB/s eta 0:00:04\n",
      "   ---- ----------------------------------- 1.9/15.5 MB 3.7 MB/s eta 0:00:04\n",
      "   ----- ---------------------------------- 2.0/15.5 MB 3.5 MB/s eta 0:00:04\n",
      "   ----- ---------------------------------- 2.0/15.5 MB 3.3 MB/s eta 0:00:05\n",
      "   ----- ---------------------------------- 2.1/15.5 MB 3.2 MB/s eta 0:00:05\n",
      "   ----- ---------------------------------- 2.3/15.5 MB 3.2 MB/s eta 0:00:05\n",
      "   ----- ---------------------------------- 2.3/15.5 MB 3.0 MB/s eta 0:00:05\n",
      "   ------ --------------------------------- 2.4/15.5 MB 2.9 MB/s eta 0:00:05\n",
      "   ------ --------------------------------- 2.4/15.5 MB 2.8 MB/s eta 0:00:05\n",
      "   ------ --------------------------------- 2.5/15.5 MB 2.8 MB/s eta 0:00:05\n",
      "   ------ --------------------------------- 2.6/15.5 MB 2.7 MB/s eta 0:00:05\n",
      "   ------ --------------------------------- 2.7/15.5 MB 2.7 MB/s eta 0:00:05\n",
      "   ------- -------------------------------- 2.8/15.5 MB 2.7 MB/s eta 0:00:05\n",
      "   ------- -------------------------------- 2.9/15.5 MB 2.7 MB/s eta 0:00:05\n",
      "   -------- ------------------------------- 3.1/15.5 MB 2.7 MB/s eta 0:00:05\n",
      "   -------- ------------------------------- 3.4/15.5 MB 2.8 MB/s eta 0:00:05\n",
      "   --------- ------------------------------ 3.7/15.5 MB 2.9 MB/s eta 0:00:05\n",
      "   --------- ------------------------------ 3.7/15.5 MB 2.9 MB/s eta 0:00:05\n",
      "   ---------- ----------------------------- 3.9/15.5 MB 2.9 MB/s eta 0:00:05\n",
      "   ---------- ----------------------------- 4.1/15.5 MB 3.0 MB/s eta 0:00:04\n",
      "   ----------- ---------------------------- 4.3/15.5 MB 3.0 MB/s eta 0:00:04\n",
      "   ----------- ---------------------------- 4.6/15.5 MB 3.1 MB/s eta 0:00:04\n",
      "   ------------ --------------------------- 4.8/15.5 MB 3.1 MB/s eta 0:00:04\n",
      "   ------------ --------------------------- 4.9/15.5 MB 3.1 MB/s eta 0:00:04\n",
      "   ------------- -------------------------- 5.2/15.5 MB 3.2 MB/s eta 0:00:04\n",
      "   ------------- -------------------------- 5.4/15.5 MB 3.2 MB/s eta 0:00:04\n",
      "   -------------- ------------------------- 5.6/15.5 MB 3.2 MB/s eta 0:00:04\n",
      "   -------------- ------------------------- 5.7/15.5 MB 3.2 MB/s eta 0:00:04\n",
      "   --------------- ------------------------ 5.9/15.5 MB 3.3 MB/s eta 0:00:03\n",
      "   --------------- ------------------------ 6.1/15.5 MB 3.2 MB/s eta 0:00:03\n",
      "   --------------- ------------------------ 6.1/15.5 MB 3.2 MB/s eta 0:00:03\n",
      "   --------------- ------------------------ 6.1/15.5 MB 3.1 MB/s eta 0:00:04\n",
      "   --------------- ------------------------ 6.1/15.5 MB 3.1 MB/s eta 0:00:04\n",
      "   --------------- ------------------------ 6.2/15.5 MB 3.0 MB/s eta 0:00:04\n",
      "   --------------- ------------------------ 6.2/15.5 MB 3.0 MB/s eta 0:00:04\n",
      "   --------------- ------------------------ 6.2/15.5 MB 2.9 MB/s eta 0:00:04\n",
      "   ---------------- ----------------------- 6.2/15.5 MB 2.9 MB/s eta 0:00:04\n",
      "   ---------------- ----------------------- 6.2/15.5 MB 2.8 MB/s eta 0:00:04\n",
      "   ---------------- ----------------------- 6.3/15.5 MB 2.8 MB/s eta 0:00:04\n",
      "   ---------------- ----------------------- 6.3/15.5 MB 2.7 MB/s eta 0:00:04\n",
      "   ---------------- ----------------------- 6.3/15.5 MB 2.7 MB/s eta 0:00:04\n",
      "   ---------------- ----------------------- 6.3/15.5 MB 2.6 MB/s eta 0:00:04\n",
      "   ---------------- ----------------------- 6.3/15.5 MB 2.6 MB/s eta 0:00:04\n",
      "   ---------------- ----------------------- 6.3/15.5 MB 2.6 MB/s eta 0:00:04\n",
      "   ---------------- ----------------------- 6.3/15.5 MB 2.5 MB/s eta 0:00:04\n",
      "   ---------------- ----------------------- 6.3/15.5 MB 2.5 MB/s eta 0:00:04\n",
      "   ---------------- ----------------------- 6.3/15.5 MB 2.5 MB/s eta 0:00:04\n",
      "   ---------------- ----------------------- 6.3/15.5 MB 2.4 MB/s eta 0:00:04\n",
      "   ---------------- ----------------------- 6.3/15.5 MB 2.4 MB/s eta 0:00:04\n",
      "   ---------------- ----------------------- 6.4/15.5 MB 2.3 MB/s eta 0:00:04\n",
      "   ---------------- ----------------------- 6.4/15.5 MB 2.3 MB/s eta 0:00:05\n",
      "   ---------------- ----------------------- 6.4/15.5 MB 2.2 MB/s eta 0:00:05\n",
      "   ---------------- ----------------------- 6.4/15.5 MB 2.2 MB/s eta 0:00:05\n",
      "   ---------------- ----------------------- 6.4/15.5 MB 2.2 MB/s eta 0:00:05\n",
      "   ---------------- ----------------------- 6.5/15.5 MB 2.1 MB/s eta 0:00:05\n",
      "   ---------------- ----------------------- 6.5/15.5 MB 2.1 MB/s eta 0:00:05\n",
      "   ---------------- ----------------------- 6.5/15.5 MB 2.1 MB/s eta 0:00:05\n",
      "   ---------------- ----------------------- 6.5/15.5 MB 2.1 MB/s eta 0:00:05\n",
      "   ---------------- ----------------------- 6.6/15.5 MB 2.0 MB/s eta 0:00:05\n",
      "   ----------------- ---------------------- 6.6/15.5 MB 2.0 MB/s eta 0:00:05\n",
      "   ----------------- ---------------------- 6.7/15.5 MB 2.0 MB/s eta 0:00:05\n",
      "   ----------------- ---------------------- 6.7/15.5 MB 2.0 MB/s eta 0:00:05\n",
      "   ----------------- ---------------------- 6.8/15.5 MB 2.0 MB/s eta 0:00:05\n",
      "   ----------------- ---------------------- 6.9/15.5 MB 2.0 MB/s eta 0:00:05\n",
      "   ----------------- ---------------------- 7.0/15.5 MB 2.0 MB/s eta 0:00:05\n",
      "   ------------------ --------------------- 7.1/15.5 MB 2.0 MB/s eta 0:00:05\n",
      "   ------------------ --------------------- 7.1/15.5 MB 2.0 MB/s eta 0:00:05\n",
      "   ------------------ --------------------- 7.2/15.5 MB 2.0 MB/s eta 0:00:05\n",
      "   ------------------ --------------------- 7.3/15.5 MB 2.0 MB/s eta 0:00:05\n",
      "   ------------------- -------------------- 7.4/15.5 MB 2.0 MB/s eta 0:00:05\n",
      "   ------------------- -------------------- 7.4/15.5 MB 2.0 MB/s eta 0:00:05\n",
      "   ------------------- -------------------- 7.4/15.5 MB 2.0 MB/s eta 0:00:05\n",
      "   ------------------- -------------------- 7.4/15.5 MB 1.9 MB/s eta 0:00:05\n",
      "   ------------------- -------------------- 7.4/15.5 MB 1.9 MB/s eta 0:00:05\n",
      "   ------------------- -------------------- 7.5/15.5 MB 1.9 MB/s eta 0:00:05\n",
      "   ------------------- -------------------- 7.5/15.5 MB 1.9 MB/s eta 0:00:05\n",
      "   ------------------- -------------------- 7.5/15.5 MB 1.9 MB/s eta 0:00:05\n",
      "   ------------------- -------------------- 7.5/15.5 MB 1.9 MB/s eta 0:00:05\n",
      "   ------------------- -------------------- 7.5/15.5 MB 1.9 MB/s eta 0:00:05\n",
      "   ------------------- -------------------- 7.5/15.5 MB 1.8 MB/s eta 0:00:05\n",
      "   ------------------- -------------------- 7.5/15.5 MB 1.8 MB/s eta 0:00:05\n",
      "   ------------------- -------------------- 7.5/15.5 MB 1.8 MB/s eta 0:00:05\n",
      "   ------------------- -------------------- 7.5/15.5 MB 1.8 MB/s eta 0:00:05\n",
      "   ------------------- -------------------- 7.5/15.5 MB 1.7 MB/s eta 0:00:05\n",
      "   ------------------- -------------------- 7.5/15.5 MB 1.7 MB/s eta 0:00:05\n",
      "   ------------------- -------------------- 7.5/15.5 MB 1.7 MB/s eta 0:00:05\n",
      "   ------------------- -------------------- 7.6/15.5 MB 1.7 MB/s eta 0:00:05\n",
      "   ------------------- -------------------- 7.6/15.5 MB 1.6 MB/s eta 0:00:05\n",
      "   ------------------- -------------------- 7.6/15.5 MB 1.6 MB/s eta 0:00:05\n",
      "   ------------------- -------------------- 7.6/15.5 MB 1.6 MB/s eta 0:00:05\n",
      "   ------------------- -------------------- 7.7/15.5 MB 1.6 MB/s eta 0:00:05\n",
      "   ------------------- -------------------- 7.7/15.5 MB 1.6 MB/s eta 0:00:05\n",
      "   -------------------- ------------------- 7.8/15.5 MB 1.6 MB/s eta 0:00:05\n",
      "   -------------------- ------------------- 7.8/15.5 MB 1.6 MB/s eta 0:00:05\n",
      "   -------------------- ------------------- 7.8/15.5 MB 1.6 MB/s eta 0:00:05\n",
      "   -------------------- ------------------- 7.9/15.5 MB 1.6 MB/s eta 0:00:05\n",
      "   -------------------- ------------------- 8.0/15.5 MB 1.6 MB/s eta 0:00:05\n",
      "   -------------------- ------------------- 8.1/15.5 MB 1.6 MB/s eta 0:00:05\n",
      "   --------------------- ------------------ 8.2/15.5 MB 1.6 MB/s eta 0:00:05\n",
      "   --------------------- ------------------ 8.3/15.5 MB 1.6 MB/s eta 0:00:05\n",
      "   --------------------- ------------------ 8.4/15.5 MB 1.6 MB/s eta 0:00:05\n",
      "   --------------------- ------------------ 8.5/15.5 MB 1.6 MB/s eta 0:00:05\n",
      "   ---------------------- ----------------- 8.7/15.5 MB 1.6 MB/s eta 0:00:05\n",
      "   ---------------------- ----------------- 8.9/15.5 MB 1.6 MB/s eta 0:00:05\n",
      "   ----------------------- ---------------- 9.1/15.5 MB 1.7 MB/s eta 0:00:04\n",
      "   ------------------------ --------------- 9.4/15.5 MB 1.7 MB/s eta 0:00:04\n",
      "   ------------------------ --------------- 9.6/15.5 MB 1.7 MB/s eta 0:00:04\n",
      "   ------------------------- -------------- 9.9/15.5 MB 1.8 MB/s eta 0:00:04\n",
      "   ------------------------- -------------- 10.1/15.5 MB 1.8 MB/s eta 0:00:04\n",
      "   -------------------------- ------------- 10.2/15.5 MB 1.8 MB/s eta 0:00:03\n",
      "   -------------------------- ------------- 10.3/15.5 MB 1.8 MB/s eta 0:00:03\n",
      "   -------------------------- ------------- 10.4/15.5 MB 1.8 MB/s eta 0:00:03\n",
      "   -------------------------- ------------- 10.5/15.5 MB 1.8 MB/s eta 0:00:03\n",
      "   --------------------------- ------------ 10.6/15.5 MB 1.8 MB/s eta 0:00:03\n",
      "   --------------------------- ------------ 10.8/15.5 MB 1.8 MB/s eta 0:00:03\n",
      "   ---------------------------- ----------- 10.9/15.5 MB 1.8 MB/s eta 0:00:03\n",
      "   ---------------------------- ----------- 11.1/15.5 MB 1.8 MB/s eta 0:00:03\n",
      "   ---------------------------- ----------- 11.2/15.5 MB 1.8 MB/s eta 0:00:03\n",
      "   ----------------------------- ---------- 11.4/15.5 MB 1.8 MB/s eta 0:00:03\n",
      "   ----------------------------- ---------- 11.6/15.5 MB 1.8 MB/s eta 0:00:03\n",
      "   ------------------------------ --------- 11.8/15.5 MB 1.8 MB/s eta 0:00:03\n",
      "   ------------------------------- -------- 12.1/15.5 MB 1.8 MB/s eta 0:00:02\n",
      "   ------------------------------- -------- 12.3/15.5 MB 1.8 MB/s eta 0:00:02\n",
      "   -------------------------------- ------- 12.6/15.5 MB 1.8 MB/s eta 0:00:02\n",
      "   -------------------------------- ------- 12.8/15.5 MB 1.9 MB/s eta 0:00:02\n",
      "   --------------------------------- ------ 12.9/15.5 MB 1.9 MB/s eta 0:00:02\n",
      "   --------------------------------- ------ 13.0/15.5 MB 1.9 MB/s eta 0:00:02\n",
      "   --------------------------------- ------ 13.2/15.5 MB 1.9 MB/s eta 0:00:02\n",
      "   ---------------------------------- ----- 13.3/15.5 MB 1.9 MB/s eta 0:00:02\n",
      "   ---------------------------------- ----- 13.5/15.5 MB 1.9 MB/s eta 0:00:02\n",
      "   ----------------------------------- ---- 13.7/15.5 MB 1.9 MB/s eta 0:00:01\n",
      "   ----------------------------------- ---- 13.9/15.5 MB 1.9 MB/s eta 0:00:01\n",
      "   ------------------------------------ --- 14.2/15.5 MB 1.9 MB/s eta 0:00:01\n",
      "   ------------------------------------ --- 14.3/15.5 MB 1.9 MB/s eta 0:00:01\n",
      "   ------------------------------------- -- 14.5/15.5 MB 1.9 MB/s eta 0:00:01\n",
      "   ------------------------------------- -- 14.6/15.5 MB 1.9 MB/s eta 0:00:01\n",
      "   ------------------------------------- -- 14.7/15.5 MB 1.9 MB/s eta 0:00:01\n",
      "   -------------------------------------- - 15.0/15.5 MB 1.9 MB/s eta 0:00:01\n",
      "   ---------------------------------------  15.2/15.5 MB 1.9 MB/s eta 0:00:01\n",
      "   ---------------------------------------  15.3/15.5 MB 1.9 MB/s eta 0:00:01\n",
      "   ---------------------------------------  15.5/15.5 MB 1.9 MB/s eta 0:00:01\n",
      "   ---------------------------------------  15.5/15.5 MB 1.9 MB/s eta 0:00:01\n",
      "   ---------------------------------------  15.5/15.5 MB 1.9 MB/s eta 0:00:01\n",
      "   ---------------------------------------  15.5/15.5 MB 1.9 MB/s eta 0:00:01\n",
      "   ---------------------------------------- 15.5/15.5 MB 1.8 MB/s eta 0:00:00\n",
      "Installing collected packages: numpy\n",
      "  Attempting uninstall: numpy\n",
      "    Found existing installation: numpy 2.3.1\n",
      "    Uninstalling numpy-2.3.1:\n",
      "      Successfully uninstalled numpy-2.3.1\n",
      "Successfully installed numpy-1.26.4\n",
      "Note: you may need to restart the kernel to use updated packages.\n"
     ]
    },
    {
     "name": "stderr",
     "output_type": "stream",
     "text": [
      "  WARNING: The script f2py.exe is installed in 'C:\\Users\\syeds\\AppData\\Roaming\\Python\\Python312\\Scripts' which is not on PATH.\n",
      "  Consider adding this directory to PATH or, if you prefer to suppress this warning, use --no-warn-script-location.\n",
      "ERROR: pip's dependency resolver does not currently take into account all the packages that are installed. This behaviour is the source of the following dependency conflicts.\n",
      "thinc 8.3.6 requires numpy<3.0.0,>=2.0.0, but you have numpy 1.26.4 which is incompatible.\n"
     ]
    }
   ],
   "source": [
    "%pip install numpy==1.26.4\n"
   ]
  },
  {
   "cell_type": "code",
   "execution_count": 5,
   "id": "2d442787-c35b-4400-b4c9-834913726aa8",
   "metadata": {},
   "outputs": [
    {
     "name": "stdout",
     "output_type": "stream",
     "text": [
      "Defaulting to user installation because normal site-packages is not writeable\n",
      "Requirement already satisfied: pydantic>=2.0 in c:\\users\\syeds\\appdata\\roaming\\python\\python312\\site-packages (2.11.7)\n",
      "Requirement already satisfied: annotated-types>=0.6.0 in c:\\anaconda\\lib\\site-packages (from pydantic>=2.0) (0.6.0)\n",
      "Requirement already satisfied: pydantic-core==2.33.2 in c:\\users\\syeds\\appdata\\roaming\\python\\python312\\site-packages (from pydantic>=2.0) (2.33.2)\n",
      "Requirement already satisfied: typing-extensions>=4.12.2 in c:\\users\\syeds\\appdata\\roaming\\python\\python312\\site-packages (from pydantic>=2.0) (4.14.1)\n",
      "Requirement already satisfied: typing-inspection>=0.4.0 in c:\\users\\syeds\\appdata\\roaming\\python\\python312\\site-packages (from pydantic>=2.0) (0.4.1)\n",
      "Note: you may need to restart the kernel to use updated packages.\n"
     ]
    }
   ],
   "source": [
    "pip install --upgrade \"pydantic>=2.0\"\n"
   ]
  },
  {
   "cell_type": "code",
   "execution_count": 6,
   "id": "943876bd-27b7-4c77-acb8-ec6787628632",
   "metadata": {},
   "outputs": [
    {
     "name": "stdout",
     "output_type": "stream",
     "text": [
      "✅ All libraries are working perfectly!\n"
     ]
    }
   ],
   "source": [
    "#importing libraries\n",
    "import spacy\n",
    "import nltk\n",
    "from transformers import pipeline\n",
    "\n",
    "print(\"✅ All libraries are working perfectly!\")\n"
   ]
  },
  {
   "cell_type": "code",
   "execution_count": 7,
   "id": "f6d35c6e-b727-4221-abea-796a398be241",
   "metadata": {},
   "outputs": [
    {
     "name": "stdout",
     "output_type": "stream",
     "text": [
      "Defaulting to user installation because normal site-packages is not writeable\n",
      "Requirement already satisfied: torch in c:\\users\\syeds\\appdata\\roaming\\python\\python312\\site-packages (2.7.1)\n",
      "Requirement already satisfied: filelock in c:\\anaconda\\lib\\site-packages (from torch) (3.13.1)\n",
      "Requirement already satisfied: typing-extensions>=4.10.0 in c:\\users\\syeds\\appdata\\roaming\\python\\python312\\site-packages (from torch) (4.14.1)\n",
      "Requirement already satisfied: sympy>=1.13.3 in c:\\users\\syeds\\appdata\\roaming\\python\\python312\\site-packages (from torch) (1.14.0)\n",
      "Requirement already satisfied: networkx in c:\\anaconda\\lib\\site-packages (from torch) (3.2.1)\n",
      "Requirement already satisfied: jinja2 in c:\\anaconda\\lib\\site-packages (from torch) (3.1.4)\n",
      "Requirement already satisfied: fsspec in c:\\anaconda\\lib\\site-packages (from torch) (2024.3.1)\n",
      "Requirement already satisfied: setuptools in c:\\anaconda\\lib\\site-packages (from torch) (69.5.1)\n",
      "Requirement already satisfied: mpmath<1.4,>=1.1.0 in c:\\anaconda\\lib\\site-packages (from sympy>=1.13.3->torch) (1.3.0)\n",
      "Requirement already satisfied: MarkupSafe>=2.0 in c:\\anaconda\\lib\\site-packages (from jinja2->torch) (2.1.3)\n",
      "Note: you may need to restart the kernel to use updated packages.\n"
     ]
    }
   ],
   "source": [
    "pip install torch\n"
   ]
  },
  {
   "cell_type": "code",
   "execution_count": 8,
   "id": "0351254d-8d27-49a6-82e9-c8ddf93d2835",
   "metadata": {},
   "outputs": [
    {
     "name": "stdout",
     "output_type": "stream",
     "text": [
      "This Agreement is entered into by and between Company A and Client B. \n",
      "Client B agrees to the terms and conditions outlined herein. The agreement shall be effective from 1st January 2023 and continue for a period of one year.\n",
      "Termination can occur if either party breaches the contract, with a notice period of 30 days.\n",
      "\n"
     ]
    }
   ],
   "source": [
    "# Load legal text file\n",
    "with open(\"sample_legal.txt\", \"r\") as file:\n",
    "    legal_text = file.read()\n",
    "\n",
    "print(legal_text)\n"
   ]
  },
  {
   "cell_type": "code",
   "execution_count": 9,
   "id": "cb317d9a-bb68-42a5-8fc5-03658b0a079f",
   "metadata": {},
   "outputs": [
    {
     "name": "stdout",
     "output_type": "stream",
     "text": [
      "Collecting en-core-web-sm==3.8.0\n",
      "  Using cached https://github.com/explosion/spacy-models/releases/download/en_core_web_sm-3.8.0/en_core_web_sm-3.8.0-py3-none-any.whl (12.8 MB)\n",
      "\u001b[38;5;2m[+] Download and installation successful\u001b[0m\n",
      "You can now load the package via spacy.load('en_core_web_sm')\n"
     ]
    }
   ],
   "source": [
    "!python -m spacy download en_core_web_sm\n"
   ]
  },
  {
   "cell_type": "code",
   "execution_count": 1,
   "id": "7cae075c-7243-44e9-967f-1b1a97c7eea8",
   "metadata": {},
   "outputs": [
    {
     "name": "stdout",
     "output_type": "stream",
     "text": [
      "✅ Model loaded successfully!\n"
     ]
    }
   ],
   "source": [
    "import spacy\n",
    "nlp = spacy.load(\"en_core_web_sm\")\n",
    "print(\"✅ Model loaded successfully!\")\n"
   ]
  },
  {
   "cell_type": "code",
   "execution_count": 4,
   "id": "eeafb909-e944-428f-9daf-126103b693a3",
   "metadata": {},
   "outputs": [],
   "source": [
    "#Read from your legal text file\n",
    "with open(\"sample_legal.txt\", \"r\", encoding=\"utf-8\") as file:\n",
    "    legal_text = file.read()\n"
   ]
  },
  {
   "cell_type": "code",
   "execution_count": 5,
   "id": "0cf7cf17-dff3-4802-a6bf-49d70c7dd2e7",
   "metadata": {},
   "outputs": [],
   "source": [
    "#. Process the file content\n",
    "doc = nlp(legal_text)\n"
   ]
  },
  {
   "cell_type": "code",
   "execution_count": 6,
   "id": "d064de37-a76e-4244-b44a-d9d44986e434",
   "metadata": {},
   "outputs": [
    {
     "name": "stdout",
     "output_type": "stream",
     "text": [
      "📌 Named Entities:\n",
      "Client B. \n",
      "Client --> PERSON\n",
      "1st January 2023 --> DATE\n",
      "one year --> DATE\n",
      "30 days --> DATE\n"
     ]
    }
   ],
   "source": [
    "# Print Named Entities\n",
    "print(\"📌 Named Entities:\")\n",
    "for ent in doc.ents:\n",
    "    print(f\"{ent.text} --> {ent.label_}\")\n"
   ]
  },
  {
   "cell_type": "code",
   "execution_count": 8,
   "id": "4407e293-2d7d-40ad-8d9b-2a0d74e58493",
   "metadata": {},
   "outputs": [
    {
     "name": "stderr",
     "output_type": "stream",
     "text": [
      "Device set to use cpu\n"
     ]
    },
    {
     "name": "stdout",
     "output_type": "stream",
     "text": [
      "✅ Model loaded successfully\n"
     ]
    }
   ],
   "source": [
    "\n",
    "#Install Transformers and Load Model!pip install transformers --quiet\n",
    "from transformers import pipeline\n",
    "summarizer = pipeline(\"summarization\", model=\"sshleifer/distilbart-cnn-12-6\")\n",
    "print(\"✅ Model loaded successfully\")\n"
   ]
  },
  {
   "cell_type": "code",
   "execution_count": 9,
   "id": "46218da5-d535-42a5-9d16-1ae3011da41d",
   "metadata": {},
   "outputs": [],
   "source": [
    "with open(\"sample_legal.txt\", \"r\", encoding=\"utf-8\") as f:\n",
    "    legal_text = f.read()\n"
   ]
  },
  {
   "cell_type": "code",
   "execution_count": 11,
   "id": "146f500f-9b62-48c1-b1c0-170948dbc6ef",
   "metadata": {},
   "outputs": [
    {
     "name": "stdout",
     "output_type": "stream",
     "text": [
      "📄 Summary of Legal Document:\n",
      "  Agreement entered into by and between Company A and Client B . The agreement shall be effective from 1st January 2023 and continue for a period of one year .\n"
     ]
    }
   ],
   "source": [
    "summary = summarizer(legal_text, max_length=35, min_length=15, do_sample=False)\n",
    "print(\"📄 Summary of Legal Document:\\n\", summary[0]['summary_text'])\n"
   ]
  },
  {
   "cell_type": "code",
   "execution_count": null,
   "id": "3310bf8a-cb06-423a-9eea-20ced06c1fd7",
   "metadata": {},
   "outputs": [],
   "source": []
  }
 ],
 "metadata": {
  "kernelspec": {
   "display_name": "Python 3 (ipykernel)",
   "language": "python",
   "name": "python3"
  },
  "language_info": {
   "codemirror_mode": {
    "name": "ipython",
    "version": 3
   },
   "file_extension": ".py",
   "mimetype": "text/x-python",
   "name": "python",
   "nbconvert_exporter": "python",
   "pygments_lexer": "ipython3",
   "version": "3.12.4"
  }
 },
 "nbformat": 4,
 "nbformat_minor": 5
}
